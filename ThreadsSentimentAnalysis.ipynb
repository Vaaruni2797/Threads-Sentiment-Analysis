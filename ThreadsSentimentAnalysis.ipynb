{
 "cells": [
  {
   "cell_type": "code",
   "execution_count": 1,
   "id": "9e7bd0ab-b5b0-4337-a0ae-b5bd691d435a",
   "metadata": {},
   "outputs": [],
   "source": [
    "import pandas as pd\n",
    "import numpy as np\n",
    "import matplotlib.pyplot as plt\n",
    "%matplotlib inline\n",
    "from sklearn.model_selection import train_test_split\n",
    "from sklearn.naive_bayes import GaussianNB\n",
    "from sklearn.linear_model import LogisticRegression\n",
    "from sklearn.svm import SVC\n",
    "from sklearn.tree import DecisionTreeClassifier\n",
    "from sklearn.ensemble import RandomForestClassifier\n",
    "from sklearn.ensemble import AdaBoostClassifier\n",
    "from sklearn.metrics import accuracy_score, classification_report\n",
    "import nltk\n",
    "from nltk.stem import PorterStemmer\n",
    "from nltk.corpus import *\n",
    "import re\n",
    "from nltk.tokenize import TweetTokenizer\n",
    "import string"
   ]
  },
  {
   "cell_type": "code",
   "execution_count": 2,
   "id": "f8e40fe2-5908-4199-b109-29dc3e2a29c8",
   "metadata": {},
   "outputs": [],
   "source": [
    "df = pd.read_csv('threads_reviews.csv', header = 'infer')"
   ]
  },
  {
   "cell_type": "code",
   "execution_count": 3,
   "id": "ce343a32-6c13-44d8-a304-fdfacc18e706",
   "metadata": {},
   "outputs": [
    {
     "name": "stdout",
     "output_type": "stream",
     "text": [
      "<class 'pandas.core.frame.DataFrame'>\n",
      "RangeIndex: 32910 entries, 0 to 32909\n",
      "Data columns (total 4 columns):\n",
      " #   Column              Non-Null Count  Dtype \n",
      "---  ------              --------------  ----- \n",
      " 0   source              32910 non-null  object\n",
      " 1   review_description  32910 non-null  object\n",
      " 2   rating              32910 non-null  int64 \n",
      " 3   review_date         32910 non-null  object\n",
      "dtypes: int64(1), object(3)\n",
      "memory usage: 1.0+ MB\n"
     ]
    }
   ],
   "source": [
    "df.info()"
   ]
  },
  {
   "cell_type": "code",
   "execution_count": 4,
   "id": "cfbb4ca1-9b5b-4fb7-998a-8907b93d5a29",
   "metadata": {},
   "outputs": [],
   "source": [
    "df.dropna(inplace = True)"
   ]
  },
  {
   "cell_type": "code",
   "execution_count": 5,
   "id": "bde21a6e-c4ce-4d6b-9b4f-6ab44b2e137f",
   "metadata": {},
   "outputs": [
    {
     "data": {
      "text/plain": [
       "Google Play    30270\n",
       "App Store       2640\n",
       "Name: source, dtype: int64"
      ]
     },
     "execution_count": 5,
     "metadata": {},
     "output_type": "execute_result"
    }
   ],
   "source": [
    "df.source.value_counts()"
   ]
  },
  {
   "cell_type": "code",
   "execution_count": 6,
   "id": "412eba5f-03c8-4605-93f0-4714e1c58210",
   "metadata": {},
   "outputs": [],
   "source": [
    "data = df[(df.rating == 1) | (df.rating == 2) | (df.rating == 4) | (df.rating == 5)][['review_description','rating']]"
   ]
  },
  {
   "cell_type": "code",
   "execution_count": 7,
   "id": "ddfa5d86-d423-40a9-a274-06cb3a10963e",
   "metadata": {},
   "outputs": [],
   "source": [
    "data.reset_index(inplace = True, drop = True)"
   ]
  },
  {
   "cell_type": "code",
   "execution_count": 8,
   "id": "93c9f206-7baf-4209-8b05-9c3b1f897258",
   "metadata": {},
   "outputs": [],
   "source": [
    "data['rating'] = data['rating'].replace(1, 0)\n",
    "data['rating'] = data['rating'].replace(2, 0)"
   ]
  },
  {
   "cell_type": "code",
   "execution_count": 9,
   "id": "0ae901a9-7431-487f-867e-decc47a875fa",
   "metadata": {},
   "outputs": [],
   "source": [
    "data['rating'] = data['rating'].replace(4, 1)\n",
    "data['rating'] = data['rating'].replace(5, 1)"
   ]
  },
  {
   "cell_type": "code",
   "execution_count": 10,
   "id": "0b6bba34-8b45-4bc0-9ea6-c3971f528c63",
   "metadata": {},
   "outputs": [
    {
     "data": {
      "text/plain": [
       "1    18803\n",
       "0    11522\n",
       "Name: rating, dtype: int64"
      ]
     },
     "execution_count": 10,
     "metadata": {},
     "output_type": "execute_result"
    }
   ],
   "source": [
    "data.rating.value_counts()"
   ]
  },
  {
   "cell_type": "code",
   "execution_count": 11,
   "id": "1bd132d2-19af-46b3-8d27-f0e4b1e80cfc",
   "metadata": {},
   "outputs": [
    {
     "data": {
      "text/plain": [
       "\"Meh. Not the greatest experience on a Chromebook. Seems to be customized for phones only. Opens in a little screen that you can't expand or resize - for reasons that are a complete mystery to me. Judging from the fact that every other app I know of is resizeable, this seems like it was a conscious choice by the developers . Why you'd do something like this is beyond understanding and suggests a control freak approach. Not a great way to make a first impression.\""
      ]
     },
     "execution_count": 11,
     "metadata": {},
     "output_type": "execute_result"
    }
   ],
   "source": [
    "data['review_description'][0]"
   ]
  },
  {
   "cell_type": "code",
   "execution_count": 12,
   "id": "705845e0-187e-42d0-85dd-4c0d00fb7148",
   "metadata": {},
   "outputs": [],
   "source": [
    "def process_review(rvw):\n",
    "    stemmer = PorterStemmer()\n",
    "    stopwords_english = stopwords.words('english')\n",
    "    rvw = re.sub(r'\\$\\w*', '', rvw)\n",
    "    \n",
    "    rvw = re.sub(r'^RT[\\s]+', '', rvw)\n",
    "    \n",
    "    rvw = re.sub(r'https?:\\/\\/.*[\\r\\n]*', '', rvw)\n",
    "    \n",
    "    rvw = re.sub(r'#', '', rvw)\n",
    "    \n",
    "    tokenizer = TweetTokenizer(preserve_case=False, strip_handles=True,\n",
    "                               reduce_len=True)\n",
    "    rvw_tokens = tokenizer.tokenize(rvw)\n",
    "\n",
    "    rvw_clean = []\n",
    "    for word in rvw_tokens:\n",
    "        if (word not in stopwords_english and  # remove stopwords\n",
    "                word not in string.punctuation):  # remove punctuation\n",
    "            # tweets_clean.append(word)\n",
    "            stem_word = stemmer.stem(word)  # stemming word\n",
    "            rvw_clean.append(stem_word)\n",
    "\n",
    "    return rvw_clean"
   ]
  },
  {
   "cell_type": "code",
   "execution_count": 13,
   "id": "a86059dc-7faa-4b45-89a8-ee312f0e313d",
   "metadata": {},
   "outputs": [],
   "source": [
    "def build_freqs(rvw, ys):\n",
    "    # Convert np array to list since zip needs an iterable.\n",
    "    yslist = np.squeeze(ys).tolist()\n",
    "    #Count freqs and generate dictionary\n",
    "    freqs = {}\n",
    "    for y, rw in zip(yslist, rvw):\n",
    "        for word in process_review(rw):\n",
    "            pair = (word, y)\n",
    "            if pair in freqs:\n",
    "                freqs[pair] += 1\n",
    "            else:\n",
    "                freqs[pair] = 1\n",
    "    return freqs"
   ]
  },
  {
   "cell_type": "code",
   "execution_count": 14,
   "id": "d3fab71f-f18b-48ad-b9ba-b0b5c1558095",
   "metadata": {},
   "outputs": [],
   "source": [
    "freqs = build_freqs(data.review_description,data.rating)"
   ]
  },
  {
   "cell_type": "code",
   "execution_count": 15,
   "id": "d13ffbd2-1a72-4493-bcd5-fdae3dd475cc",
   "metadata": {},
   "outputs": [
    {
     "data": {
      "text/plain": [
       "20103"
      ]
     },
     "execution_count": 15,
     "metadata": {},
     "output_type": "execute_result"
    }
   ],
   "source": [
    "len(freqs)"
   ]
  },
  {
   "cell_type": "code",
   "execution_count": 16,
   "id": "d2ad909c-564a-4c72-9f38-76aaa5c48680",
   "metadata": {},
   "outputs": [],
   "source": [
    "def extract_features(rvw, freqs, process_review=process_review):\n",
    "    word_l = process_review(rvw)\n",
    "    x = np.zeros((1, 3)) \n",
    "    x[0,0] = 1 \n",
    "    for word in word_l:\n",
    "        \n",
    "        x[0,1] += freqs.get((word, 1.0),0)\n",
    "        \n",
    "        x[0,2] += freqs.get((word, 0),0)\n",
    "        \n",
    "    assert(x.shape == (1, 3))\n",
    "    return x"
   ]
  },
  {
   "cell_type": "code",
   "execution_count": 17,
   "id": "fd513534-c1b2-46cc-902a-a1da9fe3857d",
   "metadata": {},
   "outputs": [],
   "source": [
    "X = np.zeros((len(data), 3)) \n",
    "\n",
    "for i in range(len(data)):\n",
    "    X[i,:] = extract_features(data.review_description[i],freqs,process_review=process_review)"
   ]
  },
  {
   "cell_type": "code",
   "execution_count": 18,
   "id": "1291eafd-1e8c-48c5-bf65-b907a939980d",
   "metadata": {},
   "outputs": [],
   "source": [
    "y = data.rating"
   ]
  },
  {
   "cell_type": "code",
   "execution_count": 19,
   "id": "cda50048-cfdc-4624-99ea-85c668102a1d",
   "metadata": {},
   "outputs": [],
   "source": [
    "X_train,X_test,y_train,y_test = train_test_split(X,y,test_size = 0.2,stratify = y)"
   ]
  },
  {
   "cell_type": "code",
   "execution_count": 20,
   "id": "08adcfc9-0979-4c39-95d7-8d4f6adb027e",
   "metadata": {},
   "outputs": [
    {
     "name": "stdout",
     "output_type": "stream",
     "text": [
      "LogisticRegression()\n",
      "              precision    recall  f1-score   support\n",
      "\n",
      "           0       0.76      0.71      0.74      2304\n",
      "           1       0.83      0.86      0.85      3761\n",
      "\n",
      "    accuracy                           0.81      6065\n",
      "   macro avg       0.80      0.79      0.79      6065\n",
      "weighted avg       0.81      0.81      0.81      6065\n",
      "\n",
      "GaussianNB()\n",
      "              precision    recall  f1-score   support\n",
      "\n",
      "           0       0.67      0.20      0.31      2304\n",
      "           1       0.66      0.94      0.77      3761\n",
      "\n",
      "    accuracy                           0.66      6065\n",
      "   macro avg       0.66      0.57      0.54      6065\n",
      "weighted avg       0.66      0.66      0.60      6065\n",
      "\n",
      "SVC()\n",
      "              precision    recall  f1-score   support\n",
      "\n",
      "           0       0.78      0.57      0.66      2304\n",
      "           1       0.77      0.90      0.83      3761\n",
      "\n",
      "    accuracy                           0.78      6065\n",
      "   macro avg       0.78      0.74      0.75      6065\n",
      "weighted avg       0.78      0.78      0.77      6065\n",
      "\n",
      "DecisionTreeClassifier()\n",
      "              precision    recall  f1-score   support\n",
      "\n",
      "           0       0.71      0.69      0.70      2304\n",
      "           1       0.82      0.83      0.82      3761\n",
      "\n",
      "    accuracy                           0.78      6065\n",
      "   macro avg       0.76      0.76      0.76      6065\n",
      "weighted avg       0.78      0.78      0.78      6065\n",
      "\n",
      "RandomForestClassifier()\n",
      "              precision    recall  f1-score   support\n",
      "\n",
      "           0       0.77      0.74      0.76      2304\n",
      "           1       0.85      0.87      0.86      3761\n",
      "\n",
      "    accuracy                           0.82      6065\n",
      "   macro avg       0.81      0.80      0.81      6065\n",
      "weighted avg       0.82      0.82      0.82      6065\n",
      "\n",
      "AdaBoostClassifier()\n",
      "              precision    recall  f1-score   support\n",
      "\n",
      "           0       0.77      0.70      0.73      2304\n",
      "           1       0.82      0.87      0.85      3761\n",
      "\n",
      "    accuracy                           0.80      6065\n",
      "   macro avg       0.80      0.78      0.79      6065\n",
      "weighted avg       0.80      0.80      0.80      6065\n",
      "\n"
     ]
    }
   ],
   "source": [
    "logReg = LogisticRegression()\n",
    "gauNB = GaussianNB()\n",
    "svc=SVC()\n",
    "dectree=DecisionTreeClassifier()\n",
    "ranfor=RandomForestClassifier()\n",
    "adaBC=AdaBoostClassifier()\n",
    "models=[logReg,gauNB,svc,dectree,ranfor,adaBC]\n",
    "for amodel in models:\n",
    "    amodel.fit(X_train,y_train)\n",
    "    y_pred = amodel.predict(X_test)\n",
    "    print(amodel)\n",
    "    print(classification_report(y_test,y_pred))"
   ]
  },
  {
   "cell_type": "code",
   "execution_count": 28,
   "id": "fe7750b2-0af3-481f-8eb4-79afde7125fd",
   "metadata": {},
   "outputs": [
    {
     "data": {
      "text/plain": [
       "array([1])"
      ]
     },
     "execution_count": 28,
     "metadata": {},
     "output_type": "execute_result"
    }
   ],
   "source": [
    "logReg.predict(extract_features(\"Great\",freqs,process_review=process_review))"
   ]
  },
  {
   "cell_type": "code",
   "execution_count": null,
   "id": "677af532-076e-4b61-bde7-059b725029e3",
   "metadata": {},
   "outputs": [],
   "source": []
  }
 ],
 "metadata": {
  "kernelspec": {
   "display_name": "Python 3 (ipykernel)",
   "language": "python",
   "name": "python3"
  },
  "language_info": {
   "codemirror_mode": {
    "name": "ipython",
    "version": 3
   },
   "file_extension": ".py",
   "mimetype": "text/x-python",
   "name": "python",
   "nbconvert_exporter": "python",
   "pygments_lexer": "ipython3",
   "version": "3.9.13"
  }
 },
 "nbformat": 4,
 "nbformat_minor": 5
}
